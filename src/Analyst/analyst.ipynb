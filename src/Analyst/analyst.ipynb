{
 "cells": [
  {
   "cell_type": "code",
   "execution_count": 2,
   "metadata": {},
   "outputs": [],
   "source": [
    "import csv\n",
    "import pandas as pd\n",
    "import numpy as np"
   ]
  },
  {
   "cell_type": "code",
   "execution_count": 3,
   "metadata": {},
   "outputs": [
    {
     "name": "stdout",
     "output_type": "stream",
     "text": [
      "Minimax 1 (Black)\n",
      "Waktu tercepat agent:  0.5019\n",
      "Waktu terlambat agent:  0.554\n",
      "Rata-rata waktu agent:  0.5268733333333333\n",
      "\n",
      "Minimax 2 (White)\n",
      "Waktu tercepat agent:  0.5061\n",
      "Waktu terlambat agent:  0.7295\n",
      "Rata-rata waktu agent:  0.5814793103448276\n"
     ]
    }
   ],
   "source": [
    "df = pd.read_csv('minimax1_vs_minimax2.csv')\n",
    "\n",
    "# Memfilter data untuk agent \"Black\"\n",
    "black_times = df[df['agent'] == 'Black']['waktu']\n",
    "\n",
    "# Menghitung statistik untuk agent \"Black\"\n",
    "print(\"Minimax 1 (Black)\")\n",
    "print(\"Waktu tercepat agent: \", black_times.min())\n",
    "print(\"Waktu terlambat agent: \", black_times.max())\n",
    "print(\"Rata-rata waktu agent: \", black_times.mean())\n",
    "\n",
    "# Memfilter data untuk agent \"White\"\n",
    "white_times = df[df['agent'] == 'White']['waktu']\n",
    "\n",
    "# Menghitung statistik untuk agent \"White\"\n",
    "print(\"\\nMinimax 2 (White)\")\n",
    "print(\"Waktu tercepat agent: \", white_times.min())\n",
    "print(\"Waktu terlambat agent: \", white_times.max())\n",
    "print(\"Rata-rata waktu agent: \", white_times.mean())"
   ]
  },
  {
   "cell_type": "code",
   "execution_count": 4,
   "metadata": {},
   "outputs": [
    {
     "name": "stdout",
     "output_type": "stream",
     "text": [
      "\n",
      "Minimax 1 (Black)\n",
      "Waktu tercepat agent:  0.5028\n",
      "Waktu terlambat agent:  0.5625\n",
      "Rata-rata waktu agent:  0.5279166666666667\n",
      "\n",
      "Minimax 3 (White)\n",
      "Waktu tercepat agent:  0.5034\n",
      "Waktu terlambat agent:  2.0676\n",
      "Rata-rata waktu agent:  1.0180931034482756\n"
     ]
    }
   ],
   "source": [
    "df = pd.read_csv('minimax1_vs_minimax3.csv')\n",
    "\n",
    "# Memfilter data untuk agent \"Black\"\n",
    "black_times = df[df['agent'] == 'Black']['waktu']\n",
    "\n",
    "# Menghitung statistik untuk agent \"Black\"\n",
    "print(\"\\nMinimax 1 (Black)\")\n",
    "print(\"Waktu tercepat agent: \", black_times.min())\n",
    "print(\"Waktu terlambat agent: \", black_times.max())\n",
    "print(\"Rata-rata waktu agent: \", black_times.mean())\n",
    "\n",
    "# Memfilter data untuk agent \"White\"\n",
    "white_times = df[df['agent'] == 'White']['waktu']\n",
    "\n",
    "# Menghitung statistik untuk agent \"White\"\n",
    "print(\"\\nMinimax 3 (White)\")\n",
    "print(\"Waktu tercepat agent: \", white_times.min())\n",
    "print(\"Waktu terlambat agent: \", white_times.max())\n",
    "print(\"Rata-rata waktu agent: \", white_times.mean())"
   ]
  },
  {
   "cell_type": "code",
   "execution_count": 5,
   "metadata": {},
   "outputs": [
    {
     "name": "stdout",
     "output_type": "stream",
     "text": [
      "\n",
      "Minimax 1 (Black)\n",
      "Waktu tercepat agent:  0.5086\n",
      "Waktu terlambat agent:  0.5855\n",
      "Rata-rata waktu agent:  0.5337428571428572\n",
      "\n",
      "Local Search (White)\n",
      "Waktu tercepat agent:  0.5236\n",
      "Waktu terlambat agent:  1.0379\n",
      "Rata-rata waktu agent:  0.7724749999999999\n"
     ]
    }
   ],
   "source": [
    "df = pd.read_csv('minimax1_vs_local.csv')\n",
    "\n",
    "# Memfilter data untuk agent \"Black\"\n",
    "black_times = df[df['agent'] == 'Black']['waktu']\n",
    "\n",
    "# Menghitung statistik untuk agent \"Black\"\n",
    "print(\"\\nMinimax 1 (Black)\")\n",
    "print(\"Waktu tercepat agent: \", black_times.min())\n",
    "print(\"Waktu terlambat agent: \", black_times.max())\n",
    "print(\"Rata-rata waktu agent: \", black_times.mean())\n",
    "\n",
    "# Memfilter data untuk agent \"White\"\n",
    "white_times = df[df['agent'] == 'White']['waktu']\n",
    "\n",
    "# Menghitung statistik untuk agent \"White\"\n",
    "print(\"\\nLocal Search (White)\")\n",
    "print(\"Waktu tercepat agent: \", white_times.min())\n",
    "print(\"Waktu terlambat agent: \", white_times.max())\n",
    "print(\"Rata-rata waktu agent: \", white_times.mean())"
   ]
  },
  {
   "cell_type": "code",
   "execution_count": 6,
   "metadata": {},
   "outputs": [
    {
     "name": "stdout",
     "output_type": "stream",
     "text": [
      "\n",
      "Minimax 1 (Black)\n",
      "Waktu tercepat agent:  0.5049\n",
      "Waktu terlambat agent:  0.583\n",
      "Rata-rata waktu agent:  0.5367533333333333\n",
      "\n",
      "Genetic Algorithm (White)\n",
      "Waktu tercepat agent:  0.5016\n",
      "Waktu terlambat agent:  0.5341\n",
      "Rata-rata waktu agent:  0.5172033333333333\n"
     ]
    }
   ],
   "source": [
    "df = pd.read_csv('minimax1_vs_genetic.csv')\n",
    "\n",
    "# Memfilter data untuk agent \"Black\"\n",
    "black_times = df[df['agent'] == 'Black']['waktu']\n",
    "\n",
    "# Menghitung statistik untuk agent \"Black\"\n",
    "print(\"\\nMinimax 1 (Black)\")\n",
    "print(\"Waktu tercepat agent: \", black_times.min())\n",
    "print(\"Waktu terlambat agent: \", black_times.max())\n",
    "print(\"Rata-rata waktu agent: \", black_times.mean())\n",
    "\n",
    "# Memfilter data untuk agent \"White\"\n",
    "white_times = df[df['agent'] == 'White']['waktu']\n",
    "\n",
    "# Menghitung statistik untuk agent \"White\"\n",
    "print(\"\\nGenetic Algorithm (White)\")\n",
    "print(\"Waktu tercepat agent: \", white_times.min())\n",
    "print(\"Waktu terlambat agent: \", white_times.max())\n",
    "print(\"Rata-rata waktu agent: \", white_times.mean())"
   ]
  },
  {
   "cell_type": "code",
   "execution_count": 7,
   "metadata": {},
   "outputs": [
    {
     "name": "stdout",
     "output_type": "stream",
     "text": [
      "\n",
      "Minimax 2 (Black)\n",
      "Waktu tercepat agent:  0.5016\n",
      "Waktu terlambat agent:  0.7384\n",
      "Rata-rata waktu agent:  0.5896233333333334\n",
      "\n",
      "Minimax 3 (White)\n",
      "Waktu tercepat agent:  0.5032\n",
      "Waktu terlambat agent:  1.9176\n",
      "Rata-rata waktu agent:  1.03728\n"
     ]
    }
   ],
   "source": [
    "df = pd.read_csv('minimax2_vs_minimax3.csv')\n",
    "\n",
    "# Memfilter data untuk agent \"Black\"\n",
    "black_times = df[df['agent'] == 'Black']['waktu']\n",
    "\n",
    "# Menghitung statistik untuk agent \"Black\"\n",
    "print(\"\\nMinimax 2 (Black)\")\n",
    "print(\"Waktu tercepat agent: \", black_times.min())\n",
    "print(\"Waktu terlambat agent: \", black_times.max())\n",
    "print(\"Rata-rata waktu agent: \", black_times.mean())\n",
    "\n",
    "# Memfilter data untuk agent \"White\"\n",
    "white_times = df[df['agent'] == 'White']['waktu']\n",
    "\n",
    "# Menghitung statistik untuk agent \"White\"\n",
    "print(\"\\nMinimax 3 (White)\")\n",
    "print(\"Waktu tercepat agent: \", white_times.min())\n",
    "print(\"Waktu terlambat agent: \", white_times.max())\n",
    "print(\"Rata-rata waktu agent: \", white_times.mean())"
   ]
  },
  {
   "cell_type": "code",
   "execution_count": 8,
   "metadata": {},
   "outputs": [
    {
     "name": "stdout",
     "output_type": "stream",
     "text": [
      "\n",
      "Minimax 2 (Black)\n",
      "Waktu tercepat agent:  0.5056\n",
      "Waktu terlambat agent:  1.0686\n",
      "Rata-rata waktu agent:  0.6074266666666668\n",
      "\n",
      "Local Search (White)\n",
      "Waktu tercepat agent:  0.5027\n",
      "Waktu terlambat agent:  1.3563\n",
      "Rata-rata waktu agent:  0.8270566666666668\n"
     ]
    }
   ],
   "source": [
    "df = pd.read_csv('minimax2_vs_local.csv')\n",
    "\n",
    "# Memfilter data untuk agent \"Black\"\n",
    "black_times = df[df['agent'] == 'Black']['waktu']\n",
    "\n",
    "# Menghitung statistik untuk agent \"Black\"\n",
    "print(\"\\nMinimax 2 (Black)\")\n",
    "print(\"Waktu tercepat agent: \", black_times.min())\n",
    "print(\"Waktu terlambat agent: \", black_times.max())\n",
    "print(\"Rata-rata waktu agent: \", black_times.mean())\n",
    "\n",
    "# Memfilter data untuk agent \"White\"\n",
    "white_times = df[df['agent'] == 'White']['waktu']\n",
    "\n",
    "# Menghitung statistik untuk agent \"White\"\n",
    "print(\"\\nLocal Search (White)\")\n",
    "print(\"Waktu tercepat agent: \", white_times.min())\n",
    "print(\"Waktu terlambat agent: \", white_times.max())\n",
    "print(\"Rata-rata waktu agent: \", white_times.mean())"
   ]
  },
  {
   "cell_type": "code",
   "execution_count": 9,
   "metadata": {},
   "outputs": [
    {
     "name": "stdout",
     "output_type": "stream",
     "text": [
      "\n",
      "Minimax 2 (Black)\n",
      "Waktu tercepat agent:  0.5038\n",
      "Waktu terlambat agent:  0.8143\n",
      "Rata-rata waktu agent:  0.64389\n",
      "\n",
      "Genetic Algorithm (White)\n",
      "Waktu tercepat agent:  0.5054\n",
      "Waktu terlambat agent:  0.5352\n",
      "Rata-rata waktu agent:  0.5179275862068965\n"
     ]
    }
   ],
   "source": [
    "df = pd.read_csv('minimax2_vs_genetic.csv')\n",
    "\n",
    "# Memfilter data untuk agent \"Black\"\n",
    "black_times = df[df['agent'] == 'Black']['waktu']\n",
    "\n",
    "# Menghitung statistik untuk agent \"Black\"\n",
    "print(\"\\nMinimax 2 (Black)\")\n",
    "print(\"Waktu tercepat agent: \", black_times.min())\n",
    "print(\"Waktu terlambat agent: \", black_times.max())\n",
    "print(\"Rata-rata waktu agent: \", black_times.mean())\n",
    "\n",
    "# Memfilter data untuk agent \"White\"\n",
    "white_times = df[df['agent'] == 'White']['waktu']\n",
    "\n",
    "# Menghitung statistik untuk agent \"White\"\n",
    "print(\"\\nGenetic Algorithm (White)\")\n",
    "print(\"Waktu tercepat agent: \", white_times.min())\n",
    "print(\"Waktu terlambat agent: \", white_times.max())\n",
    "print(\"Rata-rata waktu agent: \", white_times.mean())"
   ]
  },
  {
   "cell_type": "code",
   "execution_count": 10,
   "metadata": {},
   "outputs": [
    {
     "name": "stdout",
     "output_type": "stream",
     "text": [
      "\n",
      "Minimax 3 (Black)\n",
      "Waktu tercepat agent:  0.5029\n",
      "Waktu terlambat agent:  1.4702\n",
      "Rata-rata waktu agent:  0.7563499999999999\n",
      "\n",
      "Local Search (White)\n",
      "Waktu tercepat agent:  0.5021\n",
      "Waktu terlambat agent:  1.0766\n",
      "Rata-rata waktu agent:  0.6976216666666666\n"
     ]
    }
   ],
   "source": [
    "df = pd.read_csv('minimax3_vs_local.csv')\n",
    "\n",
    "# Memfilter data untuk agent \"Black\"\n",
    "black_times = df[df['agent'] == 'Black']['waktu']\n",
    "\n",
    "# Menghitung statistik untuk agent \"Black\"\n",
    "print(\"\\nMinimax 3 (Black)\")\n",
    "print(\"Waktu tercepat agent: \", black_times.min())\n",
    "print(\"Waktu terlambat agent: \", black_times.max())\n",
    "print(\"Rata-rata waktu agent: \", black_times.mean())\n",
    "\n",
    "# Memfilter data untuk agent \"White\"\n",
    "white_times = df[df['agent'] == 'White']['waktu']\n",
    "\n",
    "# Menghitung statistik untuk agent \"White\"\n",
    "print(\"\\nLocal Search (White)\")\n",
    "print(\"Waktu tercepat agent: \", white_times.min())\n",
    "print(\"Waktu terlambat agent: \", white_times.max())\n",
    "print(\"Rata-rata waktu agent: \", white_times.mean())"
   ]
  },
  {
   "cell_type": "code",
   "execution_count": 11,
   "metadata": {},
   "outputs": [
    {
     "name": "stdout",
     "output_type": "stream",
     "text": [
      "\n",
      "Minimax 3 (Black)\n",
      "Waktu tercepat agent:  0.505\n",
      "Waktu terlambat agent:  0.5927\n",
      "Rata-rata waktu agent:  0.53467\n",
      "\n",
      "Genetic Algorithm (White)\n",
      "Waktu tercepat agent:  0.5027\n",
      "Waktu terlambat agent:  0.5306\n",
      "Rata-rata waktu agent:  0.5165866666666666\n"
     ]
    }
   ],
   "source": [
    "df = pd.read_csv('minimax3_vs_genetic.csv')\n",
    "\n",
    "# Memfilter data untuk agent \"Black\"\n",
    "black_times = df[df['agent'] == 'Black']['waktu']\n",
    "\n",
    "# Menghitung statistik untuk agent \"Black\"\n",
    "print(\"\\nMinimax 3 (Black)\")\n",
    "print(\"Waktu tercepat agent: \", black_times.min())\n",
    "print(\"Waktu terlambat agent: \", black_times.max())\n",
    "print(\"Rata-rata waktu agent: \", black_times.mean())\n",
    "\n",
    "# Memfilter data untuk agent \"White\"\n",
    "white_times = df[df['agent'] == 'White']['waktu']\n",
    "\n",
    "# Menghitung statistik untuk agent \"White\"\n",
    "print(\"\\nGenetic Algorithm (White)\")\n",
    "print(\"Waktu tercepat agent: \", white_times.min())\n",
    "print(\"Waktu terlambat agent: \", white_times.max())\n",
    "print(\"Rata-rata waktu agent: \", white_times.mean())"
   ]
  },
  {
   "cell_type": "code",
   "execution_count": 12,
   "metadata": {},
   "outputs": [
    {
     "name": "stdout",
     "output_type": "stream",
     "text": [
      "\n",
      "Local Search (Black)\n",
      "Waktu tercepat agent:  0.5073\n",
      "Waktu terlambat agent:  1.1136\n",
      "Rata-rata waktu agent:  0.76397\n",
      "\n",
      "Genetic Algorithm (White)\n",
      "Waktu tercepat agent:  0.5009\n",
      "Waktu terlambat agent:  0.5366\n",
      "Rata-rata waktu agent:  0.51917\n"
     ]
    }
   ],
   "source": [
    "df = pd.read_csv('local_vs_genetic.csv')\n",
    "\n",
    "# Memfilter data untuk agent \"Black\"\n",
    "black_times = df[df['agent'] == 'Black']['waktu']\n",
    "\n",
    "# Menghitung statistik untuk agent \"Black\"\n",
    "print(\"\\nLocal Search (Black)\")\n",
    "print(\"Waktu tercepat agent: \", black_times.min())\n",
    "print(\"Waktu terlambat agent: \", black_times.max())\n",
    "print(\"Rata-rata waktu agent: \", black_times.mean())\n",
    "\n",
    "# Memfilter data untuk agent \"White\"\n",
    "white_times = df[df['agent'] == 'White']['waktu']\n",
    "\n",
    "# Menghitung statistik untuk agent \"White\"\n",
    "print(\"\\nGenetic Algorithm (White)\")\n",
    "print(\"Waktu tercepat agent: \", white_times.min())\n",
    "print(\"Waktu terlambat agent: \", white_times.max())\n",
    "print(\"Rata-rata waktu agent: \", white_times.mean())"
   ]
  }
 ],
 "metadata": {
  "kernelspec": {
   "display_name": "Python 3",
   "language": "python",
   "name": "python3"
  },
  "language_info": {
   "codemirror_mode": {
    "name": "ipython",
    "version": 3
   },
   "file_extension": ".py",
   "mimetype": "text/x-python",
   "name": "python",
   "nbconvert_exporter": "python",
   "pygments_lexer": "ipython3",
   "version": "3.7.0"
  }
 },
 "nbformat": 4,
 "nbformat_minor": 2
}
